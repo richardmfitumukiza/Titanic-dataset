{
 "cells": [
  {
   "cell_type": "markdown",
   "id": "8f35b53e",
   "metadata": {},
   "source": [
    "# DATA SCIENCE PROJECT"
   ]
  },
  {
   "cell_type": "markdown",
   "id": "95cc367c",
   "metadata": {},
   "source": [
    "## 1. CONSULTATION"
   ]
  },
  {
   "cell_type": "markdown",
   "id": "c672ba7d",
   "metadata": {},
   "source": [
    "### 1.1 Personel\n",
    "    1.1.1 Payer:\n",
    "    1.1.2 Approver:\n",
    "    1.1.3 Insider:\n",
    "    1.1.4 User:"
   ]
  },
  {
   "cell_type": "markdown",
   "id": "d1c38c8b",
   "metadata": {},
   "source": [
    "### 1.2 Goals"
   ]
  },
  {
   "cell_type": "markdown",
   "id": "28c41c72",
   "metadata": {},
   "source": [
    "### 1.3 Objectives"
   ]
  },
  {
   "cell_type": "markdown",
   "id": "9254f397",
   "metadata": {},
   "source": [
    "### 1.4 Requirements"
   ]
  },
  {
   "cell_type": "markdown",
   "id": "87bd51f8",
   "metadata": {},
   "source": [
    "### 1.5 Scoope\n",
    "    1.5.1 Included\n",
    "    1.5.2 Excluded"
   ]
  },
  {
   "cell_type": "markdown",
   "id": "a08b5478",
   "metadata": {},
   "source": [
    "### 1.6 Constraints\n",
    "    1.6.1 Time\n",
    "    1.6.2 Budget\n",
    "    1.6.3 Other resources"
   ]
  },
  {
   "cell_type": "markdown",
   "id": "4d0feabe",
   "metadata": {},
   "source": [
    "### 1.7 Decision\n",
    "    1.7.1 Decision:\n",
    "    1.7.2 Time:\n",
    "    1.7.3 Decider:\n",
    "    1.7.4 Signature:"
   ]
  },
  {
   "cell_type": "markdown",
   "id": "e2488787",
   "metadata": {},
   "source": [
    "## 2. PLANNING"
   ]
  },
  {
   "cell_type": "markdown",
   "id": "a8ed1819",
   "metadata": {},
   "source": [
    "### 2.1 Work breakdown\n",
    "    => Tasks"
   ]
  },
  {
   "cell_type": "markdown",
   "id": "3828b22c",
   "metadata": {},
   "source": [
    "### 2.2 Resources identification\n",
    "    => Staff, other resources, Time, Cost"
   ]
  },
  {
   "cell_type": "markdown",
   "id": "99827828",
   "metadata": {},
   "source": [
    "### 2.3 Resources assignment\n",
    "    => ToDo lists, Schedule, Budget"
   ]
  },
  {
   "cell_type": "markdown",
   "id": "12535468",
   "metadata": {},
   "source": [
    "### 2.4 Communication plan\n",
    "    => contacts repertory, communication directives"
   ]
  },
  {
   "cell_type": "markdown",
   "id": "8b16338a",
   "metadata": {},
   "source": [
    "### 2.5 Risk plan\n",
    "    => risk management directives"
   ]
  },
  {
   "cell_type": "markdown",
   "id": "82b368bf",
   "metadata": {},
   "source": [
    "## 3. Execution"
   ]
  },
  {
   "cell_type": "markdown",
   "id": "d765894a",
   "metadata": {},
   "source": [
    "### 3.1 Software engineering"
   ]
  },
  {
   "cell_type": "markdown",
   "id": "1ba5c7de",
   "metadata": {},
   "source": [
    "### 3.2 Data engineering\n",
    "    => File paths, Databases, APIs, Web scrapping, ..."
   ]
  },
  {
   "cell_type": "markdown",
   "id": "ccff3298",
   "metadata": {},
   "source": [
    "### 3.3 Data science"
   ]
  },
  {
   "cell_type": "markdown",
   "id": "e171a583",
   "metadata": {},
   "source": [
    "#### 3.3.1 Descriptive statistics / Exploratory data Analysis"
   ]
  },
  {
   "cell_type": "markdown",
   "id": "5025566e",
   "metadata": {},
   "source": [
    "##### 3.3.1.1 Raw data acquisition"
   ]
  },
  {
   "cell_type": "markdown",
   "id": "18775f24",
   "metadata": {},
   "source": [
    "##### 3.3.1.2 Raw data exploration\n",
    "    structure\n",
    "        scheme\n",
    "        data by measurement: qualitative ordinal/ nominal, quantitative ratio/interval\n",
    "        data by type: categoric binary/multiple, numerical discrete/continuous\n",
    "    visualization\n",
    "        by table: sorting, grouping, filtering, frequency tables, contigency table\n",
    "        by chart: bar, pie, pareto diagram, frequency polygon, frequency histograms, scatter plot, line plot, box plot\n",
    "    tendency\n",
    "        central: mean, median, mode\n",
    "        peripheral: skewness, positive, zero, negative skew\n",
    "    variation\n",
    "        univariation: variance, standard deviation\n",
    "        covariation: covariance, correlation"
   ]
  },
  {
   "cell_type": "markdown",
   "id": "b6d035db",
   "metadata": {},
   "source": [
    "##### 3.3.1.3 Feature engineering"
   ]
  },
  {
   "cell_type": "markdown",
   "id": "1bf686cd",
   "metadata": {},
   "source": [
    "##### 3.3.1.4 analysis (visualization, tendency, variation, discernment)\n",
    "    structure\n",
    "        scheme\n",
    "        data by measurement: qualitative ordinal/ nominal, quantitative ratio/interval\n",
    "        data by type: categoric binary/multiple, numerical discrete/continuous\n",
    "    visualization\n",
    "        by table: sorting, grouping, filtering, frequency tables, contigency table\n",
    "        by chart: bar, pie, pareto diagram, frequency polygon, frequency histograms, scatter plot, line plot, box plot\n",
    "    tendency\n",
    "        central: mean, median, mode\n",
    "        peripheral: skewness, positive, zero, negative skew\n",
    "    variation\n",
    "        univariation: variance, standard deviation\n",
    "        covariation: covariance, correlation\n",
    "    discernment"
   ]
  },
  {
   "cell_type": "markdown",
   "id": "c4795280",
   "metadata": {},
   "source": [
    "#### 3.3.2 Inferential statistics / AI Modelling & Research"
   ]
  },
  {
   "cell_type": "markdown",
   "id": "d0988674",
   "metadata": {},
   "source": [
    "#### 3.3.3 Reports / Deployment"
   ]
  },
  {
   "cell_type": "markdown",
   "id": "18fdd7ce",
   "metadata": {},
   "source": [
    "## 4. Closure"
   ]
  },
  {
   "cell_type": "markdown",
   "id": "3376c726",
   "metadata": {},
   "source": [
    "### 4.1 Control handover"
   ]
  },
  {
   "cell_type": "markdown",
   "id": "07130c32",
   "metadata": {},
   "source": [
    "### 4.2 Payment finalization"
   ]
  },
  {
   "cell_type": "markdown",
   "id": "dda4cc05",
   "metadata": {},
   "source": [
    "### 4.3 Administrative report"
   ]
  },
  {
   "cell_type": "markdown",
   "id": "8382c57a",
   "metadata": {},
   "source": []
  },
  {
   "cell_type": "markdown",
   "id": "cb9ddfd2",
   "metadata": {},
   "source": []
  }
 ],
 "metadata": {
  "kernelspec": {
   "display_name": "udemy_statistics",
   "language": "python",
   "name": "udemy_statistics"
  },
  "language_info": {
   "codemirror_mode": {
    "name": "ipython",
    "version": 3
   },
   "file_extension": ".py",
   "mimetype": "text/x-python",
   "name": "python",
   "nbconvert_exporter": "python",
   "pygments_lexer": "ipython3",
   "version": "3.9.7"
  }
 },
 "nbformat": 4,
 "nbformat_minor": 5
}
