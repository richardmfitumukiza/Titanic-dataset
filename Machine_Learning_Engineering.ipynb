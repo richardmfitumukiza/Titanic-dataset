{
 "cells": [
  {
   "cell_type": "markdown",
   "id": "8f35b53e",
   "metadata": {},
   "source": [
    "# Titanic Shipwreck Survival Prediction Project"
   ]
  },
  {
   "cell_type": "markdown",
   "id": "95cc367c",
   "metadata": {},
   "source": [
    "## 1. Project Definition"
   ]
  },
  {
   "cell_type": "markdown",
   "id": "c672ba7d",
   "metadata": {},
   "source": [
    "### 1.1 Personel\n",
    "    1.1.1 Author: Richard Mfitumukiza\n",
    "    1.1.2 Supervisor: "
   ]
  },
  {
   "cell_type": "markdown",
   "id": "d1c38c8b",
   "metadata": {},
   "source": [
    "### 1.2 Goals\n",
    "RMS Titanic was a British passenger liner, operated by the White Star Line, which sank in the North Atlantic Ocean on 15 April 1912 after striking an iceberg during her maiden voyage from Southampton, UK, to New York City. Of the estimated 2,224 passengers and crew aboard, more than 1,500 died, which made the sinking possibly one of the deadliest for a single ship up to that time. It remains to this day the deadliest peacetime sinking of a superliner or cruise ship.[link](https://en.wikipedia.org/wiki/Titanic)  \n",
    "\n",
    "The goal of this project is to learn how to use machine learning in disaster management; by predicting who survived the Titanic, based on historical data.\n"
   ]
  },
  {
   "cell_type": "markdown",
   "id": "28c41c72",
   "metadata": {},
   "source": [
    "### 1.3 Objectives\n",
    "The objective is to use Machine Learning to create a model that predicts which passengers survived the Titanic shipwreck; based on the dataset  available on [Kaggle](https://www.kaggle.com/c/titanic/data).  "
   ]
  },
  {
   "cell_type": "markdown",
   "id": "9254f397",
   "metadata": {},
   "source": [
    "### 1.4 Requirements\n",
    "I am required to:\n",
    "- use Kaggle [dataset](https://www.kaggle.com/c/titanic/data),\n",
    "- create a machine learning model,\n",
    "- save my prediction in a CSV format file,\n",
    "- submit the file [here](https://www.kaggle.com/c/titanic/submit).\n"
   ]
  },
  {
   "cell_type": "markdown",
   "id": "e2488787",
   "metadata": {},
   "source": [
    "## 2. Project Planning Summary"
   ]
  },
  {
   "cell_type": "markdown",
   "id": "a8ed1819",
   "metadata": {},
   "source": [
    "### 2.1 Work breakdown\n",
    "- use Kaggle [dataset](https://www.kaggle.com/c/titanic/data),\n",
    "    - Download dataset from kaggle.com to local machine\n",
    "    - Prepare dataset and make it ready for usage in subsequent steps\n",
    "- create a machine learning model,\n",
    "    - Exploratory Data Analysis\n",
    "        - Raw data exploration\n",
    "        - Feature engineering\n",
    "        - Analysis\n",
    "    - Machine Learning Modelling\n",
    "        - Split into train, validate, test sets\n",
    "        - train models\n",
    "        - neural network models\n",
    "        - ensemble models\n",
    "- save my prediction in a CSV format file,\n",
    "    - use the model on submission data\n",
    "    - save prediction in a file on local machine\n",
    "- submit the file [here](https://www.kaggle.com/c/titanic/submit).\n",
    "    - Deploy\n",
    "        - submit prediction on kaggle\n",
    "    - Monitor operations\n",
    "        - keep note of obtained score competition.\n"
   ]
  },
  {
   "cell_type": "markdown",
   "id": "3828b22c",
   "metadata": {},
   "source": [
    "### 2.2 Resources identification\n",
    "- Links\n",
    "    - Competition overview: https://www.kaggle.com/c/titanic/overview\n",
    "    - context: https://en.wikipedia.org/wiki/Titanic\n",
    "    - dataset: https://www.kaggle.com/c/titanic/data\n",
    "    - submission: https://www.kaggle.com/c/titanic/submit"
   ]
  },
  {
   "cell_type": "markdown",
   "id": "82b368bf",
   "metadata": {},
   "source": [
    "## 3. Execution"
   ]
  },
  {
   "cell_type": "markdown",
   "id": "ccff3298",
   "metadata": {},
   "source": [
    "### 3.3 Data science"
   ]
  },
  {
   "cell_type": "markdown",
   "id": "e171a583",
   "metadata": {},
   "source": [
    "#### 3.3.1 Descriptive statistics / Exploratory data Analysis"
   ]
  },
  {
   "cell_type": "markdown",
   "id": "5025566e",
   "metadata": {},
   "source": [
    "##### 3.3.1.1 Raw data acquisition"
   ]
  },
  {
   "cell_type": "code",
   "execution_count": 2,
   "id": "ef8edcf9-5cee-4156-9fcc-6fa6afabd40f",
   "metadata": {},
   "outputs": [],
   "source": [
    "url = \"\"\n",
    "local_file_path = \"\""
   ]
  },
  {
   "cell_type": "markdown",
   "id": "18775f24",
   "metadata": {
    "tags": []
   },
   "source": [
    "##### 3.3.1.2 Raw data exploration\n",
    "    structure\n",
    "        scheme\n",
    "        data by measurement: qualitative ordinal/ nominal, quantitative ratio/interval\n",
    "        data by type: categoric binary/multiple, numerical discrete/continuous\n",
    "    visualization\n",
    "        by table: sorting, grouping, filtering, frequency tables, contigency table\n",
    "        by chart: bar, pie, pareto diagram, frequency polygon, frequency histograms, scatter plot, line plot, box plot\n",
    "    tendency\n",
    "        central: mean, median, mode\n",
    "        peripheral: skewness, positive, zero, negative skew\n",
    "    variation\n",
    "        univariation: variance, standard deviation\n",
    "        covariation: covariance, correlation"
   ]
  },
  {
   "cell_type": "markdown",
   "id": "b6d035db",
   "metadata": {},
   "source": [
    "##### 3.3.1.3 Feature engineering"
   ]
  },
  {
   "cell_type": "markdown",
   "id": "1bf686cd",
   "metadata": {},
   "source": [
    "##### 3.3.1.4 analysis (visualization, tendency, variation, discernment)\n",
    "    structure\n",
    "        scheme\n",
    "        data by measurement: qualitative ordinal/ nominal, quantitative ratio/interval\n",
    "        data by type: categoric binary/multiple, numerical discrete/continuous\n",
    "    visualization\n",
    "        by table: sorting, grouping, filtering, frequency tables, contigency table\n",
    "        by chart: bar, pie, pareto diagram, frequency polygon, frequency histograms, scatter plot, line plot, box plot\n",
    "    tendency\n",
    "        central: mean, median, mode\n",
    "        peripheral: skewness, positive, zero, negative skew\n",
    "    variation\n",
    "        univariation: variance, standard deviation\n",
    "        covariation: covariance, correlation\n",
    "    discernment"
   ]
  },
  {
   "cell_type": "markdown",
   "id": "c4795280",
   "metadata": {},
   "source": [
    "#### 3.3.2 Inferential statistics / AI Modelling & Research"
   ]
  },
  {
   "cell_type": "markdown",
   "id": "d0988674",
   "metadata": {},
   "source": [
    "#### 3.3.3 Reports / Deployment"
   ]
  },
  {
   "cell_type": "markdown",
   "id": "18fdd7ce",
   "metadata": {},
   "source": [
    "## 4. Closure"
   ]
  },
  {
   "cell_type": "markdown",
   "id": "3376c726",
   "metadata": {},
   "source": [
    "### 4.1 Control handover"
   ]
  },
  {
   "cell_type": "markdown",
   "id": "07130c32",
   "metadata": {},
   "source": [
    "### 4.2 Payment finalization"
   ]
  },
  {
   "cell_type": "markdown",
   "id": "dda4cc05",
   "metadata": {},
   "source": [
    "### 4.3 Administrative report"
   ]
  },
  {
   "cell_type": "markdown",
   "id": "8382c57a",
   "metadata": {},
   "source": []
  },
  {
   "cell_type": "markdown",
   "id": "cb9ddfd2",
   "metadata": {},
   "source": []
  }
 ],
 "metadata": {
  "kernelspec": {
   "display_name": "udemy_statistics",
   "language": "python",
   "name": "udemy_statistics"
  },
  "language_info": {
   "codemirror_mode": {
    "name": "ipython",
    "version": 3
   },
   "file_extension": ".py",
   "mimetype": "text/x-python",
   "name": "python",
   "nbconvert_exporter": "python",
   "pygments_lexer": "ipython3",
   "version": "3.9.7"
  }
 },
 "nbformat": 4,
 "nbformat_minor": 5
}
